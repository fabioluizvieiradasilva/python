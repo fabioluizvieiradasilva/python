{
 "cells": [
  {
   "cell_type": "markdown",
   "metadata": {},
   "source": [
    "# Mapa das escolas do RS por taxa de distorção de série"
   ]
  },
  {
   "cell_type": "code",
   "execution_count": 2,
   "metadata": {},
   "outputs": [
    {
     "name": "stdout",
     "output_type": "stream",
     "text": [
      "Collecting folium\n",
      "  Downloading folium-0.11.0-py2.py3-none-any.whl (93 kB)\n",
      "Collecting branca>=0.3.0\n",
      "  Downloading branca-0.4.1-py3-none-any.whl (24 kB)\n",
      "Requirement already satisfied: numpy in c:\\programdata\\anaconda3\\lib\\site-packages (from folium) (1.18.5)\n",
      "Requirement already satisfied: jinja2>=2.9 in c:\\programdata\\anaconda3\\lib\\site-packages (from folium) (2.11.2)\n",
      "Requirement already satisfied: requests in c:\\programdata\\anaconda3\\lib\\site-packages (from folium) (2.24.0)\n",
      "Requirement already satisfied: MarkupSafe>=0.23 in c:\\programdata\\anaconda3\\lib\\site-packages (from jinja2>=2.9->folium) (1.1.1)\n",
      "Requirement already satisfied: idna<3,>=2.5 in c:\\programdata\\anaconda3\\lib\\site-packages (from requests->folium) (2.10)\n",
      "Requirement already satisfied: certifi>=2017.4.17 in c:\\programdata\\anaconda3\\lib\\site-packages (from requests->folium) (2020.6.20)\n",
      "Requirement already satisfied: urllib3!=1.25.0,!=1.25.1,<1.26,>=1.21.1 in c:\\programdata\\anaconda3\\lib\\site-packages (from requests->folium) (1.25.9)\n",
      "Requirement already satisfied: chardet<4,>=3.0.2 in c:\\programdata\\anaconda3\\lib\\site-packages (from requests->folium) (3.0.4)\n",
      "Installing collected packages: branca, folium\n",
      "Successfully installed branca-0.4.1 folium-0.11.0\n"
     ]
    }
   ],
   "source": [
    "#pip permite instalar novas bibliotecas\n",
    "# ! permite a execução de comandos diretamente no jupyter notebook\n",
    "!pip install folium"
   ]
  },
  {
   "cell_type": "code",
   "execution_count": 3,
   "metadata": {},
   "outputs": [],
   "source": [
    "#Importando as bibliotecas\n",
    "import pandas as pd\n",
    "%matplotlib inline\n",
    "import folium"
   ]
  },
  {
   "cell_type": "code",
   "execution_count": 4,
   "metadata": {},
   "outputs": [
    {
     "data": {
      "text/html": [
       "<div>\n",
       "<style scoped>\n",
       "    .dataframe tbody tr th:only-of-type {\n",
       "        vertical-align: middle;\n",
       "    }\n",
       "\n",
       "    .dataframe tbody tr th {\n",
       "        vertical-align: top;\n",
       "    }\n",
       "\n",
       "    .dataframe thead th {\n",
       "        text-align: right;\n",
       "    }\n",
       "</style>\n",
       "<table border=\"1\" class=\"dataframe\">\n",
       "  <thead>\n",
       "    <tr style=\"text-align: right;\">\n",
       "      <th></th>\n",
       "      <th>Município</th>\n",
       "      <th>ibge</th>\n",
       "      <th>latitude</th>\n",
       "      <th>longitude</th>\n",
       "      <th>/Educação/Ens...de Série/Total 2013 (-)</th>\n",
       "    </tr>\n",
       "  </thead>\n",
       "  <tbody>\n",
       "    <tr>\n",
       "      <th>0</th>\n",
       "      <td>Aceguá</td>\n",
       "      <td>4300034</td>\n",
       "      <td>-31.86076</td>\n",
       "      <td>-54.16706</td>\n",
       "      <td>25,7</td>\n",
       "    </tr>\n",
       "    <tr>\n",
       "      <th>1</th>\n",
       "      <td>Água Santa</td>\n",
       "      <td>4300059</td>\n",
       "      <td>-28.16720</td>\n",
       "      <td>-52.03100</td>\n",
       "      <td>14,7</td>\n",
       "    </tr>\n",
       "    <tr>\n",
       "      <th>2</th>\n",
       "      <td>Agudo</td>\n",
       "      <td>4300109</td>\n",
       "      <td>-29.64470</td>\n",
       "      <td>-53.25150</td>\n",
       "      <td>26,4</td>\n",
       "    </tr>\n",
       "    <tr>\n",
       "      <th>3</th>\n",
       "      <td>Ajuricaba</td>\n",
       "      <td>4300208</td>\n",
       "      <td>-28.23420</td>\n",
       "      <td>-53.77570</td>\n",
       "      <td>24,1</td>\n",
       "    </tr>\n",
       "    <tr>\n",
       "      <th>4</th>\n",
       "      <td>Alecrim</td>\n",
       "      <td>4300307</td>\n",
       "      <td>-27.65790</td>\n",
       "      <td>-54.76490</td>\n",
       "      <td>18,9</td>\n",
       "    </tr>\n",
       "  </tbody>\n",
       "</table>\n",
       "</div>"
      ],
      "text/plain": [
       "    Município     ibge  latitude  longitude  \\\n",
       "0      Aceguá  4300034 -31.86076  -54.16706   \n",
       "1  Água Santa  4300059 -28.16720  -52.03100   \n",
       "2       Agudo  4300109 -29.64470  -53.25150   \n",
       "3   Ajuricaba  4300208 -28.23420  -53.77570   \n",
       "4     Alecrim  4300307 -27.65790  -54.76490   \n",
       "\n",
       "  /Educação/Ens...de Série/Total 2013 (-)  \n",
       "0                                    25,7  \n",
       "1                                    14,7  \n",
       "2                                    26,4  \n",
       "3                                    24,1  \n",
       "4                                    18,9  "
      ]
     },
     "execution_count": 4,
     "metadata": {},
     "output_type": "execute_result"
    }
   ],
   "source": [
    "#carregando o arquivo csv\n",
    "df= pd.read_csv('fee-2013-mun-taxa-de-distorcao-idade-serie-total-102524.csv', encoding='latin1', skiprows=1)\n",
    "df.head()"
   ]
  },
  {
   "cell_type": "code",
   "execution_count": 6,
   "metadata": {},
   "outputs": [
    {
     "data": {
      "text/html": [
       "<div>\n",
       "<style scoped>\n",
       "    .dataframe tbody tr th:only-of-type {\n",
       "        vertical-align: middle;\n",
       "    }\n",
       "\n",
       "    .dataframe tbody tr th {\n",
       "        vertical-align: top;\n",
       "    }\n",
       "\n",
       "    .dataframe thead th {\n",
       "        text-align: right;\n",
       "    }\n",
       "</style>\n",
       "<table border=\"1\" class=\"dataframe\">\n",
       "  <thead>\n",
       "    <tr style=\"text-align: right;\">\n",
       "      <th></th>\n",
       "      <th>Município</th>\n",
       "      <th>ibge</th>\n",
       "      <th>latitude</th>\n",
       "      <th>longitude</th>\n",
       "      <th>tx_distorcao</th>\n",
       "    </tr>\n",
       "  </thead>\n",
       "  <tbody>\n",
       "    <tr>\n",
       "      <th>0</th>\n",
       "      <td>Aceguá</td>\n",
       "      <td>4300034</td>\n",
       "      <td>-31.86076</td>\n",
       "      <td>-54.16706</td>\n",
       "      <td>25,7</td>\n",
       "    </tr>\n",
       "    <tr>\n",
       "      <th>1</th>\n",
       "      <td>Água Santa</td>\n",
       "      <td>4300059</td>\n",
       "      <td>-28.16720</td>\n",
       "      <td>-52.03100</td>\n",
       "      <td>14,7</td>\n",
       "    </tr>\n",
       "    <tr>\n",
       "      <th>2</th>\n",
       "      <td>Agudo</td>\n",
       "      <td>4300109</td>\n",
       "      <td>-29.64470</td>\n",
       "      <td>-53.25150</td>\n",
       "      <td>26,4</td>\n",
       "    </tr>\n",
       "    <tr>\n",
       "      <th>3</th>\n",
       "      <td>Ajuricaba</td>\n",
       "      <td>4300208</td>\n",
       "      <td>-28.23420</td>\n",
       "      <td>-53.77570</td>\n",
       "      <td>24,1</td>\n",
       "    </tr>\n",
       "    <tr>\n",
       "      <th>4</th>\n",
       "      <td>Alecrim</td>\n",
       "      <td>4300307</td>\n",
       "      <td>-27.65790</td>\n",
       "      <td>-54.76490</td>\n",
       "      <td>18,9</td>\n",
       "    </tr>\n",
       "  </tbody>\n",
       "</table>\n",
       "</div>"
      ],
      "text/plain": [
       "    Município     ibge  latitude  longitude tx_distorcao\n",
       "0      Aceguá  4300034 -31.86076  -54.16706         25,7\n",
       "1  Água Santa  4300059 -28.16720  -52.03100         14,7\n",
       "2       Agudo  4300109 -29.64470  -53.25150         26,4\n",
       "3   Ajuricaba  4300208 -28.23420  -53.77570         24,1\n",
       "4     Alecrim  4300307 -27.65790  -54.76490         18,9"
      ]
     },
     "execution_count": 6,
     "metadata": {},
     "output_type": "execute_result"
    }
   ],
   "source": [
    "#renomeando colunas\n",
    "df.rename(columns={'/Educação/Ens...de Série/Total 2013 (-)':'tx_distorcao'}, inplace=True)\n",
    "df.head()"
   ]
  },
  {
   "cell_type": "code",
   "execution_count": 7,
   "metadata": {},
   "outputs": [
    {
     "name": "stdout",
     "output_type": "stream",
     "text": [
      "<class 'pandas.core.frame.DataFrame'>\n",
      "RangeIndex: 495 entries, 0 to 494\n",
      "Data columns (total 5 columns):\n",
      " #   Column        Non-Null Count  Dtype  \n",
      "---  ------        --------------  -----  \n",
      " 0   Município     495 non-null    object \n",
      " 1   ibge          495 non-null    int64  \n",
      " 2   latitude      495 non-null    float64\n",
      " 3   longitude     495 non-null    float64\n",
      " 4   tx_distorcao  495 non-null    object \n",
      "dtypes: float64(2), int64(1), object(2)\n",
      "memory usage: 19.5+ KB\n"
     ]
    }
   ],
   "source": [
    "#verificar o data frame\n",
    "df.info()"
   ]
  },
  {
   "cell_type": "code",
   "execution_count": 8,
   "metadata": {},
   "outputs": [
    {
     "data": {
      "text/html": [
       "<div>\n",
       "<style scoped>\n",
       "    .dataframe tbody tr th:only-of-type {\n",
       "        vertical-align: middle;\n",
       "    }\n",
       "\n",
       "    .dataframe tbody tr th {\n",
       "        vertical-align: top;\n",
       "    }\n",
       "\n",
       "    .dataframe thead th {\n",
       "        text-align: right;\n",
       "    }\n",
       "</style>\n",
       "<table border=\"1\" class=\"dataframe\">\n",
       "  <thead>\n",
       "    <tr style=\"text-align: right;\">\n",
       "      <th></th>\n",
       "      <th>Município</th>\n",
       "      <th>ibge</th>\n",
       "      <th>latitude</th>\n",
       "      <th>longitude</th>\n",
       "      <th>tx_distorcao</th>\n",
       "    </tr>\n",
       "  </thead>\n",
       "  <tbody>\n",
       "    <tr>\n",
       "      <th>0</th>\n",
       "      <td>Aceguá</td>\n",
       "      <td>4300034</td>\n",
       "      <td>-31.86076</td>\n",
       "      <td>-54.16706</td>\n",
       "      <td>25.7</td>\n",
       "    </tr>\n",
       "    <tr>\n",
       "      <th>1</th>\n",
       "      <td>Água Santa</td>\n",
       "      <td>4300059</td>\n",
       "      <td>-28.16720</td>\n",
       "      <td>-52.03100</td>\n",
       "      <td>14.7</td>\n",
       "    </tr>\n",
       "    <tr>\n",
       "      <th>2</th>\n",
       "      <td>Agudo</td>\n",
       "      <td>4300109</td>\n",
       "      <td>-29.64470</td>\n",
       "      <td>-53.25150</td>\n",
       "      <td>26.4</td>\n",
       "    </tr>\n",
       "    <tr>\n",
       "      <th>3</th>\n",
       "      <td>Ajuricaba</td>\n",
       "      <td>4300208</td>\n",
       "      <td>-28.23420</td>\n",
       "      <td>-53.77570</td>\n",
       "      <td>24.1</td>\n",
       "    </tr>\n",
       "    <tr>\n",
       "      <th>4</th>\n",
       "      <td>Alecrim</td>\n",
       "      <td>4300307</td>\n",
       "      <td>-27.65790</td>\n",
       "      <td>-54.76490</td>\n",
       "      <td>18.9</td>\n",
       "    </tr>\n",
       "  </tbody>\n",
       "</table>\n",
       "</div>"
      ],
      "text/plain": [
       "    Município     ibge  latitude  longitude tx_distorcao\n",
       "0      Aceguá  4300034 -31.86076  -54.16706         25.7\n",
       "1  Água Santa  4300059 -28.16720  -52.03100         14.7\n",
       "2       Agudo  4300109 -29.64470  -53.25150         26.4\n",
       "3   Ajuricaba  4300208 -28.23420  -53.77570         24.1\n",
       "4     Alecrim  4300307 -27.65790  -54.76490         18.9"
      ]
     },
     "execution_count": 8,
     "metadata": {},
     "output_type": "execute_result"
    }
   ],
   "source": [
    "#converter tx_distorcao para float\n",
    "\n",
    "#trocando virgula por ponto\n",
    "df['tx_distorcao'] = df['tx_distorcao'].str.replace(',','.')\n",
    "df.head()"
   ]
  },
  {
   "cell_type": "code",
   "execution_count": 9,
   "metadata": {},
   "outputs": [
    {
     "name": "stdout",
     "output_type": "stream",
     "text": [
      "<class 'pandas.core.frame.DataFrame'>\n",
      "RangeIndex: 495 entries, 0 to 494\n",
      "Data columns (total 5 columns):\n",
      " #   Column        Non-Null Count  Dtype  \n",
      "---  ------        --------------  -----  \n",
      " 0   Município     495 non-null    object \n",
      " 1   ibge          495 non-null    int64  \n",
      " 2   latitude      495 non-null    float64\n",
      " 3   longitude     495 non-null    float64\n",
      " 4   tx_distorcao  495 non-null    object \n",
      "dtypes: float64(2), int64(1), object(2)\n",
      "memory usage: 19.5+ KB\n"
     ]
    }
   ],
   "source": [
    "df.info()"
   ]
  },
  {
   "cell_type": "code",
   "execution_count": 10,
   "metadata": {},
   "outputs": [
    {
     "name": "stdout",
     "output_type": "stream",
     "text": [
      "<class 'pandas.core.frame.DataFrame'>\n",
      "RangeIndex: 495 entries, 0 to 494\n",
      "Data columns (total 5 columns):\n",
      " #   Column        Non-Null Count  Dtype  \n",
      "---  ------        --------------  -----  \n",
      " 0   Município     495 non-null    object \n",
      " 1   ibge          495 non-null    int64  \n",
      " 2   latitude      495 non-null    float64\n",
      " 3   longitude     495 non-null    float64\n",
      " 4   tx_distorcao  495 non-null    float64\n",
      "dtypes: float64(3), int64(1), object(1)\n",
      "memory usage: 19.5+ KB\n"
     ]
    }
   ],
   "source": [
    "df['tx_distorcao'] = df['tx_distorcao'].astype(float)\n",
    "df.info()"
   ]
  },
  {
   "cell_type": "code",
   "execution_count": 11,
   "metadata": {},
   "outputs": [
    {
     "data": {
      "text/html": [
       "<div>\n",
       "<style scoped>\n",
       "    .dataframe tbody tr th:only-of-type {\n",
       "        vertical-align: middle;\n",
       "    }\n",
       "\n",
       "    .dataframe tbody tr th {\n",
       "        vertical-align: top;\n",
       "    }\n",
       "\n",
       "    .dataframe thead th {\n",
       "        text-align: right;\n",
       "    }\n",
       "</style>\n",
       "<table border=\"1\" class=\"dataframe\">\n",
       "  <thead>\n",
       "    <tr style=\"text-align: right;\">\n",
       "      <th></th>\n",
       "      <th>Município</th>\n",
       "      <th>ibge</th>\n",
       "      <th>latitude</th>\n",
       "      <th>longitude</th>\n",
       "      <th>tx_distorcao</th>\n",
       "    </tr>\n",
       "  </thead>\n",
       "  <tbody>\n",
       "    <tr>\n",
       "      <th>490</th>\n",
       "      <td>Vista Alegre do Prata</td>\n",
       "      <td>4323606</td>\n",
       "      <td>-28.8052</td>\n",
       "      <td>-51.7946</td>\n",
       "      <td>2.6</td>\n",
       "    </tr>\n",
       "    <tr>\n",
       "      <th>375</th>\n",
       "      <td>Santo Antônio do Palma</td>\n",
       "      <td>4317558</td>\n",
       "      <td>-28.4956</td>\n",
       "      <td>-52.0267</td>\n",
       "      <td>4.3</td>\n",
       "    </tr>\n",
       "    <tr>\n",
       "      <th>28</th>\n",
       "      <td>Áurea</td>\n",
       "      <td>4301552</td>\n",
       "      <td>-27.6936</td>\n",
       "      <td>-52.0505</td>\n",
       "      <td>5.8</td>\n",
       "    </tr>\n",
       "    <tr>\n",
       "      <th>268</th>\n",
       "      <td>Nicolau Vergueiro</td>\n",
       "      <td>4312674</td>\n",
       "      <td>-28.5298</td>\n",
       "      <td>-52.4676</td>\n",
       "      <td>7.0</td>\n",
       "    </tr>\n",
       "    <tr>\n",
       "      <th>128</th>\n",
       "      <td>Derrubadas</td>\n",
       "      <td>4306320</td>\n",
       "      <td>-27.2642</td>\n",
       "      <td>-53.8645</td>\n",
       "      <td>7.4</td>\n",
       "    </tr>\n",
       "  </tbody>\n",
       "</table>\n",
       "</div>"
      ],
      "text/plain": [
       "                  Município     ibge  latitude  longitude  tx_distorcao\n",
       "490   Vista Alegre do Prata  4323606  -28.8052   -51.7946           2.6\n",
       "375  Santo Antônio do Palma  4317558  -28.4956   -52.0267           4.3\n",
       "28                    Áurea  4301552  -27.6936   -52.0505           5.8\n",
       "268       Nicolau Vergueiro  4312674  -28.5298   -52.4676           7.0\n",
       "128              Derrubadas  4306320  -27.2642   -53.8645           7.4"
      ]
     },
     "execution_count": 11,
     "metadata": {},
     "output_type": "execute_result"
    }
   ],
   "source": [
    "#10 municipios com menor taxa de distorção\n",
    "df.nsmallest(5, 'tx_distorcao')"
   ]
  },
  {
   "cell_type": "code",
   "execution_count": 12,
   "metadata": {},
   "outputs": [
    {
     "data": {
      "text/html": [
       "<div>\n",
       "<style scoped>\n",
       "    .dataframe tbody tr th:only-of-type {\n",
       "        vertical-align: middle;\n",
       "    }\n",
       "\n",
       "    .dataframe tbody tr th {\n",
       "        vertical-align: top;\n",
       "    }\n",
       "\n",
       "    .dataframe thead th {\n",
       "        text-align: right;\n",
       "    }\n",
       "</style>\n",
       "<table border=\"1\" class=\"dataframe\">\n",
       "  <thead>\n",
       "    <tr style=\"text-align: right;\">\n",
       "      <th></th>\n",
       "      <th>Município</th>\n",
       "      <th>ibge</th>\n",
       "      <th>latitude</th>\n",
       "      <th>longitude</th>\n",
       "      <th>tx_distorcao</th>\n",
       "    </tr>\n",
       "  </thead>\n",
       "  <tbody>\n",
       "    <tr>\n",
       "      <th>307</th>\n",
       "      <td>Pedras Altas</td>\n",
       "      <td>4314175</td>\n",
       "      <td>-31.7217</td>\n",
       "      <td>-53.5838</td>\n",
       "      <td>56.0</td>\n",
       "    </tr>\n",
       "    <tr>\n",
       "      <th>316</th>\n",
       "      <td>Pinheiro Machado</td>\n",
       "      <td>4314506</td>\n",
       "      <td>-31.5794</td>\n",
       "      <td>-53.3798</td>\n",
       "      <td>53.9</td>\n",
       "    </tr>\n",
       "    <tr>\n",
       "      <th>17</th>\n",
       "      <td>Arambaré</td>\n",
       "      <td>4300851</td>\n",
       "      <td>-30.9093</td>\n",
       "      <td>-51.5046</td>\n",
       "      <td>52.8</td>\n",
       "    </tr>\n",
       "    <tr>\n",
       "      <th>140</th>\n",
       "      <td>Eldorado do Sul</td>\n",
       "      <td>4306767</td>\n",
       "      <td>-30.0847</td>\n",
       "      <td>-51.6187</td>\n",
       "      <td>51.9</td>\n",
       "    </tr>\n",
       "    <tr>\n",
       "      <th>35</th>\n",
       "      <td>Barra do Quaraí</td>\n",
       "      <td>4301875</td>\n",
       "      <td>-30.2029</td>\n",
       "      <td>-57.5497</td>\n",
       "      <td>51.5</td>\n",
       "    </tr>\n",
       "    <tr>\n",
       "      <th>393</th>\n",
       "      <td>São José do Norte</td>\n",
       "      <td>4318507</td>\n",
       "      <td>-32.0151</td>\n",
       "      <td>-52.0331</td>\n",
       "      <td>49.4</td>\n",
       "    </tr>\n",
       "    <tr>\n",
       "      <th>413</th>\n",
       "      <td>São Valério do Sul</td>\n",
       "      <td>4319737</td>\n",
       "      <td>-27.7906</td>\n",
       "      <td>-53.9368</td>\n",
       "      <td>49.2</td>\n",
       "    </tr>\n",
       "    <tr>\n",
       "      <th>193</th>\n",
       "      <td>Hulha Negra</td>\n",
       "      <td>4309654</td>\n",
       "      <td>-31.4067</td>\n",
       "      <td>-53.8667</td>\n",
       "      <td>49.0</td>\n",
       "    </tr>\n",
       "    <tr>\n",
       "      <th>106</th>\n",
       "      <td>Chuí</td>\n",
       "      <td>4305439</td>\n",
       "      <td>-33.6866</td>\n",
       "      <td>-53.4594</td>\n",
       "      <td>48.6</td>\n",
       "    </tr>\n",
       "    <tr>\n",
       "      <th>233</th>\n",
       "      <td>Lavras do Sul</td>\n",
       "      <td>4311502</td>\n",
       "      <td>-30.8071</td>\n",
       "      <td>-53.8931</td>\n",
       "      <td>47.7</td>\n",
       "    </tr>\n",
       "  </tbody>\n",
       "</table>\n",
       "</div>"
      ],
      "text/plain": [
       "              Município     ibge  latitude  longitude  tx_distorcao\n",
       "307        Pedras Altas  4314175  -31.7217   -53.5838          56.0\n",
       "316    Pinheiro Machado  4314506  -31.5794   -53.3798          53.9\n",
       "17             Arambaré  4300851  -30.9093   -51.5046          52.8\n",
       "140     Eldorado do Sul  4306767  -30.0847   -51.6187          51.9\n",
       "35      Barra do Quaraí  4301875  -30.2029   -57.5497          51.5\n",
       "393   São José do Norte  4318507  -32.0151   -52.0331          49.4\n",
       "413  São Valério do Sul  4319737  -27.7906   -53.9368          49.2\n",
       "193         Hulha Negra  4309654  -31.4067   -53.8667          49.0\n",
       "106                Chuí  4305439  -33.6866   -53.4594          48.6\n",
       "233       Lavras do Sul  4311502  -30.8071   -53.8931          47.7"
      ]
     },
     "execution_count": 12,
     "metadata": {},
     "output_type": "execute_result"
    }
   ],
   "source": [
    "#10 municipios com maior taxa de distorção\n",
    "df.nlargest(10, 'tx_distorcao')"
   ]
  },
  {
   "cell_type": "code",
   "execution_count": 13,
   "metadata": {},
   "outputs": [
    {
     "data": {
      "text/plain": [
       "<matplotlib.axes._subplots.AxesSubplot at 0x1c171001eb0>"
      ]
     },
     "execution_count": 13,
     "metadata": {},
     "output_type": "execute_result"
    },
    {
     "data": {
      "image/png": "[encoded data removed]",
      "text/plain": [
       "<Figure size 432x288 with 1 Axes>"
      ]
     },
     "metadata": {
      "needs_background": "light"
     },
     "output_type": "display_data"
    }
   ],
   "source": [
    "#plotando o histograma da taxa de distorção\n",
    "df['tx_distorcao'].plot.hist(bins=100)"
   ]
  },
  {
   "cell_type": "code",
   "execution_count": 14,
   "metadata": {},
   "outputs": [
    {
     "data": {
      "text/plain": [
       "Município       17\n",
       "ibge            17\n",
       "latitude        17\n",
       "longitude       17\n",
       "tx_distorcao    17\n",
       "dtype: int64"
      ]
     },
     "execution_count": 14,
     "metadata": {},
     "output_type": "execute_result"
    }
   ],
   "source": [
    "#Quantidade de municipios com taxa de distorção menor ou igual a 10\n",
    "df[df['tx_distorcao']<=10].count()"
   ]
  },
  {
   "cell_type": "code",
   "execution_count": 15,
   "metadata": {},
   "outputs": [
    {
     "data": {
      "text/plain": [
       "Município       17\n",
       "ibge            17\n",
       "latitude        17\n",
       "longitude       17\n",
       "tx_distorcao    17\n",
       "dtype: int64"
      ]
     },
     "execution_count": 15,
     "metadata": {},
     "output_type": "execute_result"
    }
   ],
   "source": [
    "#Quantidade de municipios com taxa de distorção menor ou igual a 45\n",
    "df[df['tx_distorcao']>=45].count()"
   ]
  },
  {
   "cell_type": "code",
   "execution_count": 16,
   "metadata": {},
   "outputs": [
    {
     "data": {
      "text/html": [
       "<div style=\"width:100%;\"><div style=\"position:relative;width:100%;height:0;padding-bottom:60%;\"><span style=\"color:#565656\">Make this Notebook Trusted to load map: File -> Trust Notebook</span><iframe src=\"about:blank\" style=\"position:absolute;width:100%;height:100%;left:0;top:0;border:none !important;\" data-html=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 onload=\"this.contentDocument.open();this.contentDocument.write(atob(this.getAttribute('data-html')));this.contentDocument.close();\" allowfullscreen webkitallowfullscreen mozallowfullscreen></iframe></div></div>"
      ],
      "text/plain": [
       "<folium.folium.Map at 0x1c172183220>"
      ]
     },
     "execution_count": 16,
     "metadata": {},
     "output_type": "execute_result"
    }
   ],
   "source": [
    "#Vamos aprender como o folium funciona\n",
    "\n",
    "#criar um mapa com base em uma coordenada central\n",
    "brasil = folium.Map(location=[-13.6973106,-69.758164], zoom_start=4)\n",
    "\n",
    "#mostrando o mapa\n",
    "brasil\n"
   ]
  },
  {
   "cell_type": "code",
   "execution_count": 21,
   "metadata": {},
   "outputs": [
    {
     "data": {
      "text/html": [
       "<div style=\"width:100%;\"><div style=\"position:relative;width:100%;height:0;padding-bottom:60%;\"><span style=\"color:#565656\">Make this Notebook Trusted to load map: File -> Trust Notebook</span><iframe src=\"about:blank\" style=\"position:absolute;width:100%;height:100%;left:0;top:0;border:none !important;\" data-html=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 onload=\"this.contentDocument.open();this.contentDocument.write(atob(this.getAttribute('data-html')));this.contentDocument.close();\" allowfullscreen webkitallowfullscreen mozallowfullscreen></iframe></div></div>"
      ],
      "text/plain": [
       "<folium.folium.Map at 0x1c17235c970>"
      ]
     },
     "execution_count": 21,
     "metadata": {},
     "output_type": "execute_result"
    }
   ],
   "source": [
    "#Criando o mapa do RS\n",
    "rs = folium.Map(location=[-30.2447898,-54.3927498], zoom_start=6.5)\n",
    "rs"
   ]
  },
  {
   "cell_type": "code",
   "execution_count": 25,
   "metadata": {},
   "outputs": [
    {
     "data": {
      "text/html": [
       "<div style=\"width:100%;\"><div style=\"position:relative;width:100%;height:0;padding-bottom:60%;\"><span style=\"color:#565656\">Make this Notebook Trusted to load map: File -> Trust Notebook</span><iframe src=\"about:blank\" style=\"position:absolute;width:100%;height:100%;left:0;top:0;border:none !important;\" data-html=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 onload=\"this.contentDocument.open();this.contentDocument.write(atob(this.getAttribute('data-html')));this.contentDocument.close();\" allowfullscreen webkitallowfullscreen mozallowfullscreen></iframe></div></div>"
      ],
      "text/plain": [
       "<folium.folium.Map at 0x1c17235c970>"
      ]
     },
     "execution_count": 25,
     "metadata": {},
     "output_type": "execute_result"
    }
   ],
   "source": [
    "#Percorrer o dataframe com base nas melhores escolas(tx_distorcao <=10) e desenhar um marcador para cada escola \n",
    "#usando for e iterrows\n",
    "\n",
    "for indice, municipio in df[df['tx_distorcao'] <= 10].iterrows():\n",
    "    folium.Marker(location=[municipio['latitude'], municipio['longitude']],\n",
    "                 popup=municipio['Município'],\n",
    "                 icon=folium.map.Icon(color='green')\n",
    "                 ).add_to(rs)\n",
    "rs"
   ]
  },
  {
   "cell_type": "code",
   "execution_count": 27,
   "metadata": {},
   "outputs": [
    {
     "data": {
      "text/html": [
       "<div style=\"width:100%;\"><div style=\"position:relative;width:100%;height:0;padding-bottom:60%;\"><span style=\"color:#565656\">Make this Notebook Trusted to load map: File -> Trust Notebook</span><iframe src=\"about:blank\" style=\"position:absolute;width:100%;height:100%;left:0;top:0;border:none !important;\" data-html=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 onload=\"this.contentDocument.open();this.contentDocument.write(atob(this.getAttribute('data-html')));this.contentDocument.close();\" allowfullscreen webkitallowfullscreen mozallowfullscreen></iframe></div></div>"
      ],
      "text/plain": [
       "<folium.folium.Map at 0x1c17235c970>"
      ]
     },
     "execution_count": 27,
     "metadata": {},
     "output_type": "execute_result"
    }
   ],
   "source": [
    "#Percorrer o dataframe com base nas piores escolas(tx_distorcao >=45) e desenhar um marcador para cada escola \n",
    "#usando for e iterrows\n",
    "\n",
    "for indice, municipio in df[df['tx_distorcao'] >= 45].iterrows():\n",
    "    folium.Marker(location=[municipio['latitude'], municipio['longitude']],\n",
    "                 popup=municipio['Município'],\n",
    "                 icon=folium.map.Icon(color='red')\n",
    "                 ).add_to(rs)\n",
    "rs"
   ]
  },
  {
   "cell_type": "code",
   "execution_count": null,
   "metadata": {},
   "outputs": [],
   "source": []
  }
 ],
 "metadata": {
  "kernelspec": {
   "display_name": "Python 3",
   "language": "python",
   "name": "python3"
  },
  "language_info": {
   "codemirror_mode": {
    "name": "ipython",
    "version": 3
   },
   "file_extension": ".py",
   "mimetype": "text/x-python",
   "name": "python",
   "nbconvert_exporter": "python",
   "pygments_lexer": "ipython3",
   "version": "3.8.3"
  }
 },
 "nbformat": 4,
 "nbformat_minor": 4
}
